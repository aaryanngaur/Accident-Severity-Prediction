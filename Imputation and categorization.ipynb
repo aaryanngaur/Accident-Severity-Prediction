{
 "cells": [
  {
   "cell_type": "code",
   "execution_count": 12,
   "id": "dbd9e38d",
   "metadata": {},
   "outputs": [],
   "source": [
    "import pandas as pd\n",
    "import matplotlib.pyplot as plt\n",
    "import seaborn as sns\n",
    "import numpy as np\n"
   ]
  },
  {
   "cell_type": "code",
   "execution_count": 13,
   "id": "3dc1c459",
   "metadata": {},
   "outputs": [],
   "source": [
    "df = pd.read_excel(r\"C:\\Users\\HP\\Downloads\\python learning\\Vehicle Collision.xlsx\")"
   ]
  },
  {
   "cell_type": "markdown",
   "id": "6f954e50",
   "metadata": {},
   "source": [
    "### Finding Median Age between 0 to 100"
   ]
  },
  {
   "cell_type": "code",
   "execution_count": 14,
   "id": "68f8525f",
   "metadata": {},
   "outputs": [
    {
     "name": "stdout",
     "output_type": "stream",
     "text": [
      "The median age between 0 and 100 is: 33.0\n"
     ]
    }
   ],
   "source": [
    "import pandas as pd\n",
    "\n",
    "# Filter PERSON_AGE values between 0 and 100\n",
    "filtered_age = df[(df['PERSON_AGE'] >= 0) & (df['PERSON_AGE'] <= 100)]['PERSON_AGE']\n",
    "\n",
    "# Calculate the median\n",
    "median_age = filtered_age.median()\n",
    "\n",
    "print(f\"The median age between 0 and 100 is: {median_age}\")\n"
   ]
  },
  {
   "cell_type": "markdown",
   "id": "cc9eceae",
   "metadata": {},
   "source": [
    "### Imputing median age where the age less than and equal to zero and more than 100"
   ]
  },
  {
   "cell_type": "code",
   "execution_count": 15,
   "id": "73324c89",
   "metadata": {},
   "outputs": [
    {
     "name": "stdout",
     "output_type": "stream",
     "text": [
      "  UNIQUE_ID  COLLISION_ID CRASH_DATE CRASH_TIME  \\\n",
      "0  10253606     4230743.0 2019-10-24   19:15:00   \n",
      "1  10248708     4229547.0 2019-10-26   01:15:00   \n",
      "2  10254556     4230715.0 2019-10-26   08:50:00   \n",
      "3  10250834     4230376.0 2019-10-26   19:40:00   \n",
      "4  10252474     4229773.0 2019-10-26   16:50:00   \n",
      "\n",
      "                              PERSON_ID PERSON_TYPE PERSON_INJURY  VEHICLE_ID  \\\n",
      "0  84bcb3a7-d201-4c61-9e30-fe29268c1074    Occupant       Injured  19143343.0   \n",
      "1  a8904763-2870-42f3-865c-b53d8e5156e2  Pedestrian       Injured         NaN   \n",
      "2  1a085543-ae9d-4a69-8cd0-fb7b33380a8b   Bicyclist       Injured  19143832.0   \n",
      "3  f58fc41f-497e-4f30-bf49-a9a80adec8b2   Bicyclist       Injured  19141949.0   \n",
      "4  4bf13d12-8d7a-4cb0-997f-dd6a8b1adca6    Occupant       Injured  19142773.0   \n",
      "\n",
      "   PERSON_AGE     EJECTION  ...         BODILY_INJURY  \\\n",
      "0        27.0  Not Ejected  ...                  Back   \n",
      "1        24.0          NaN  ...  Shoulder - Upper Arm   \n",
      "2        42.0  Not Ejected  ...   Knee-Lower Leg Foot   \n",
      "3        36.0  Not Ejected  ...                  Back   \n",
      "4        50.0  Not Ejected  ...                  Head   \n",
      "\n",
      "                                 POSITION_IN_VEHICLE    SAFETY_EQUIPMENT  \\\n",
      "0                                             Driver  Lap Belt & Harness   \n",
      "1                                                NaN                 NaN   \n",
      "2                                             Driver             Unknown   \n",
      "3                                             Driver                 NaN   \n",
      "4  Front passenger, if two or more persons, inclu...  Lap Belt & Harness   \n",
      "\n",
      "                                        PED_LOCATION            PED_ACTION  \\\n",
      "0                                                NaN                   NaN   \n",
      "1  Pedestrian/Bicyclist/Other Pedestrian at Inter...  Crossing With Signal   \n",
      "2                                                NaN                   NaN   \n",
      "3                                                NaN                   NaN   \n",
      "4                                                NaN                   NaN   \n",
      "\n",
      "                     COMPLAINT    PED_ROLE CONTRIBUTING_FACTOR_1  \\\n",
      "0  Complaint of Pain or Nausea      Driver                   NaN   \n",
      "1                 None Visible  Pedestrian           Unspecified   \n",
      "2                 None Visible      Driver                   NaN   \n",
      "3                     Internal      Driver                   NaN   \n",
      "4  Complaint of Pain or Nausea   Passenger                   NaN   \n",
      "\n",
      "  CONTRIBUTING_FACTOR_2 PERSON_SEX  \n",
      "0                   NaN          M  \n",
      "1           Unspecified          F  \n",
      "2                   NaN          M  \n",
      "3                   NaN          M  \n",
      "4                   NaN          F  \n",
      "\n",
      "[5 rows x 21 columns]\n"
     ]
    }
   ],
   "source": [
    "import pandas as pd\n",
    "\n",
    "# Assuming df is your DataFrame containing the dataset\n",
    "\n",
    "# Impute negative values, zeros, and values > 100 with 33\n",
    "df['PERSON_AGE'] = df['PERSON_AGE'].apply(lambda x: 33 if x < 0 or x == 0 or x > 100 else x)\n",
    "\n",
    "# Display the first few rows of the DataFrame to verify\n",
    "print(df.head())\n"
   ]
  },
  {
   "cell_type": "markdown",
   "id": "3284e475",
   "metadata": {},
   "source": [
    "### Created categories for the COMPLAINT feature"
   ]
  },
  {
   "cell_type": "code",
   "execution_count": 16,
   "id": "9f5f569a",
   "metadata": {},
   "outputs": [
    {
     "name": "stdout",
     "output_type": "stream",
     "text": [
      "                             UNIQUE_ID  COLLISION_ID CRASH_DATE CRASH_TIME  \\\n",
      "0                             10253606     4230743.0 2019-10-24   19:15:00   \n",
      "1                             10248708     4229547.0 2019-10-26   01:15:00   \n",
      "2                             10254556     4230715.0 2019-10-26   08:50:00   \n",
      "3                             10250834     4230376.0 2019-10-26   19:40:00   \n",
      "4                             10252474     4229773.0 2019-10-26   16:50:00   \n",
      "...                                ...           ...        ...        ...   \n",
      "230655                        10091762     4193169.0 2019-08-22   14:00:00   \n",
      "230656                  \"error\" : true           NaN        NaT        NaN   \n",
      "230657    \"message\" : \"Internal error\"           NaN        NaT        NaN   \n",
      "230658                  \"status\" : 500           NaN        NaT        NaN   \n",
      "230659                               }           NaN        NaT        NaN   \n",
      "\n",
      "                                   PERSON_ID PERSON_TYPE PERSON_INJURY  \\\n",
      "0       84bcb3a7-d201-4c61-9e30-fe29268c1074    Occupant       Injured   \n",
      "1       a8904763-2870-42f3-865c-b53d8e5156e2  Pedestrian       Injured   \n",
      "2       1a085543-ae9d-4a69-8cd0-fb7b33380a8b   Bicyclist       Injured   \n",
      "3       f58fc41f-497e-4f30-bf49-a9a80adec8b2   Bicyclist       Injured   \n",
      "4       4bf13d12-8d7a-4cb0-997f-dd6a8b1adca6    Occupant       Injured   \n",
      "...                                      ...         ...           ...   \n",
      "230655  7a710fd4-d131-4f2f-a7d9-942c34a60fc2    Occupant       Injured   \n",
      "230656                                   NaN         NaN           NaN   \n",
      "230657                                   NaN         NaN           NaN   \n",
      "230658                                   NaN         NaN           NaN   \n",
      "230659                                   NaN         NaN           NaN   \n",
      "\n",
      "        VEHICLE_ID  PERSON_AGE     EJECTION  ...  \\\n",
      "0       19143343.0        27.0  Not Ejected  ...   \n",
      "1              NaN        24.0          NaN  ...   \n",
      "2       19143832.0        42.0  Not Ejected  ...   \n",
      "3       19141949.0        36.0  Not Ejected  ...   \n",
      "4       19142773.0        50.0  Not Ejected  ...   \n",
      "...            ...         ...          ...  ...   \n",
      "230655  19062202.0        56.0  Not Ejected  ...   \n",
      "230656         NaN         NaN          NaN  ...   \n",
      "230657         NaN         NaN          NaN  ...   \n",
      "230658         NaN         NaN          NaN  ...   \n",
      "230659         NaN         NaN          NaN  ...   \n",
      "\n",
      "                                      POSITION_IN_VEHICLE    SAFETY_EQUIPMENT  \\\n",
      "0                                                  Driver  Lap Belt & Harness   \n",
      "1                                                     NaN                 NaN   \n",
      "2                                                  Driver             Unknown   \n",
      "3                                                  Driver                 NaN   \n",
      "4       Front passenger, if two or more persons, inclu...  Lap Belt & Harness   \n",
      "...                                                   ...                 ...   \n",
      "230655  Left rear passenger, or rear passenger on a bi...  Lap Belt & Harness   \n",
      "230656                                                NaN                 NaN   \n",
      "230657                                                NaN                 NaN   \n",
      "230658                                                NaN                 NaN   \n",
      "230659                                                NaN                 NaN   \n",
      "\n",
      "                                             PED_LOCATION  \\\n",
      "0                                                     NaN   \n",
      "1       Pedestrian/Bicyclist/Other Pedestrian at Inter...   \n",
      "2                                                     NaN   \n",
      "3                                                     NaN   \n",
      "4                                                     NaN   \n",
      "...                                                   ...   \n",
      "230655                                                NaN   \n",
      "230656                                                NaN   \n",
      "230657                                                NaN   \n",
      "230658                                                NaN   \n",
      "230659                                                NaN   \n",
      "\n",
      "                  PED_ACTION                    COMPLAINT    PED_ROLE  \\\n",
      "0                        NaN  Complaint of Pain or Nausea      Driver   \n",
      "1       Crossing With Signal                 None Visible  Pedestrian   \n",
      "2                        NaN                 None Visible      Driver   \n",
      "3                        NaN                     Internal      Driver   \n",
      "4                        NaN  Complaint of Pain or Nausea   Passenger   \n",
      "...                      ...                          ...         ...   \n",
      "230655                   NaN  Complaint of Pain or Nausea   Passenger   \n",
      "230656                   NaN                          NaN         NaN   \n",
      "230657                   NaN                          NaN         NaN   \n",
      "230658                   NaN                          NaN         NaN   \n",
      "230659                   NaN                          NaN         NaN   \n",
      "\n",
      "       CONTRIBUTING_FACTOR_1 CONTRIBUTING_FACTOR_2 PERSON_SEX  \\\n",
      "0                        NaN                   NaN          M   \n",
      "1                Unspecified           Unspecified          F   \n",
      "2                        NaN                   NaN          M   \n",
      "3                        NaN                   NaN          M   \n",
      "4                        NaN                   NaN          F   \n",
      "...                      ...                   ...        ...   \n",
      "230655                   NaN                   NaN          F   \n",
      "230656                   NaN                   NaN        NaN   \n",
      "230657                   NaN                   NaN        NaN   \n",
      "230658                   NaN                   NaN        NaN   \n",
      "230659                   NaN                   NaN        NaN   \n",
      "\n",
      "       COMPLAINT_category  \n",
      "0         Minor Complaint  \n",
      "1         Minor Complaint  \n",
      "2         Minor Complaint  \n",
      "3        Severe Complaint  \n",
      "4         Minor Complaint  \n",
      "...                   ...  \n",
      "230655    Minor Complaint  \n",
      "230656     Not Applicable  \n",
      "230657     Not Applicable  \n",
      "230658     Not Applicable  \n",
      "230659     Not Applicable  \n",
      "\n",
      "[230660 rows x 22 columns]\n"
     ]
    }
   ],
   "source": [
    "# categorize the 'Complaint' column\n",
    "df['COMPLAINT_category'] = df['COMPLAINT'].apply(lambda x: 'Minor Complaint' if x in [\"Complaint of Pain\",\"Complaint of Pain or Nausea\",\"Minor Bleeding\",\"Minor Burn\",\"None Visible\"] else 'Severe Complaint' if x in [\"Amputation\",\"Crush Injuries\",\"Fracture - Dislocation\",\"Fracture - Distorted - Dislocation\",\"Internal\",\"Paralysis\",\"Severe Bleeding\",\"Severe Burn\",\"Severe Lacerations\"] else 'Moderate Complaint' if x in [\"Abrasion\",\"Concussion\",\"Contusion - Bruise\",\"Moderate Burn\",\"Whiplash\"] else 'Not Applicable')\n",
    "\n",
    "print(df)"
   ]
  },
  {
   "cell_type": "markdown",
   "id": "14783e25",
   "metadata": {},
   "source": [
    "#### Exporting Data"
   ]
  },
  {
   "cell_type": "code",
   "execution_count": 17,
   "id": "ef726aea",
   "metadata": {},
   "outputs": [],
   "source": [
    "df.to_excel('collision_data1.xlsx', sheet_name='Collision Data1', index=True)"
   ]
  },
  {
   "cell_type": "code",
   "execution_count": null,
   "id": "085f784f",
   "metadata": {},
   "outputs": [],
   "source": []
  }
 ],
 "metadata": {
  "kernelspec": {
   "display_name": "Python 3 (ipykernel)",
   "language": "python",
   "name": "python3"
  },
  "language_info": {
   "codemirror_mode": {
    "name": "ipython",
    "version": 3
   },
   "file_extension": ".py",
   "mimetype": "text/x-python",
   "name": "python",
   "nbconvert_exporter": "python",
   "pygments_lexer": "ipython3",
   "version": "3.10.9"
  }
 },
 "nbformat": 4,
 "nbformat_minor": 5
}
